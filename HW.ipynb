{
 "cells": [
  {
   "cell_type": "markdown",
   "metadata": {},
   "source": [
    "# Exrecise 1"
   ]
  },
  {
   "cell_type": "code",
   "execution_count": 1,
   "metadata": {},
   "outputs": [],
   "source": [
    "import math"
   ]
  },
  {
   "cell_type": "markdown",
   "metadata": {},
   "source": [
    "\n",
    "### Chapter 1"
   ]
  },
  {
   "cell_type": "markdown",
   "metadata": {},
   "source": [
    "9."
   ]
  },
  {
   "cell_type": "code",
   "execution_count": 5,
   "metadata": {},
   "outputs": [
    {
     "name": "stdout",
     "output_type": "stream",
     "text": [
      "720\n"
     ]
    }
   ],
   "source": [
    "print(math.factorial(6))"
   ]
  },
  {
   "cell_type": "markdown",
   "metadata": {},
   "source": [
    "10."
   ]
  },
  {
   "cell_type": "code",
   "execution_count": 14,
   "metadata": {},
   "outputs": [
    {
     "name": "stdout",
     "output_type": "stream",
     "text": [
      "124\n"
     ]
    }
   ],
   "source": [
    "count = 0\n",
    "for year in range(1500,2011):\n",
    "    if (year % 4 == 0):\n",
    "        if (year % 100 == 0):\n",
    "            if (year % 400 == 0):\n",
    "                count = count + 1\n",
    "        else:\n",
    "            count = count + 1\n",
    "print(count)  "
   ]
  },
  {
   "cell_type": "markdown",
   "metadata": {},
   "source": [
    "11."
   ]
  },
  {
   "cell_type": "code",
   "execution_count": null,
   "metadata": {},
   "outputs": [],
   "source": []
  },
  {
   "cell_type": "markdown",
   "metadata": {},
   "source": [
    "13."
   ]
  },
  {
   "cell_type": "code",
   "execution_count": 6,
   "metadata": {},
   "outputs": [
    {
     "name": "stdout",
     "output_type": "stream",
     "text": [
      "x = 3.141592653589793: sin^2(x) + cos^2(x) = 1.000000000000000\n",
      "x = 6.283185307179586: sin^2(x) + cos^2(x) = 1.000000000000000\n",
      "x = 12.566370614359172: sin^2(x) + cos^2(x) = 1.000000000000000\n",
      "x = 18.84955592153876: sin^2(x) + cos^2(x) = 1.000000000000000\n"
     ]
    }
   ],
   "source": [
    "x_values = [math.pi, 2 * math.pi, 4 * math.pi, 6 * math.pi]\n",
    "\n",
    "results = [(x, math.sin(x)**2 + math.cos(x)**2) for x in x_values]\n",
    "\n",
    "for x, result in results:\n",
    "    print(f\"x = {x}: sin^2(x) + cos^2(x) = {result:.15f}\")"
   ]
  },
  {
   "cell_type": "markdown",
   "metadata": {},
   "source": [
    "14."
   ]
  },
  {
   "cell_type": "code",
   "execution_count": 7,
   "metadata": {},
   "outputs": [
    {
     "name": "stdout",
     "output_type": "stream",
     "text": [
      "sin(87°) = 0.998629534754574\n"
     ]
    }
   ],
   "source": [
    "angle_degrees = 87\n",
    "angle_radians = math.radians(angle_degrees)\n",
    "\n",
    "sin_value = math.sin(angle_radians)\n",
    "print(f\"sin(87°) = {sin_value:.15f}\")"
   ]
  },
  {
   "cell_type": "markdown",
   "metadata": {},
   "source": [
    "19."
   ]
  },
  {
   "cell_type": "code",
   "execution_count": 9,
   "metadata": {},
   "outputs": [
    {
     "name": "stdout",
     "output_type": "stream",
     "text": [
      "P = True, Q = True, (P AND Q) OR (P AND (NOT Q)) = True\n",
      "P = True, Q = False, (P AND Q) OR (P AND (NOT Q)) = True\n",
      "P = False, Q = True, (P AND Q) OR (P AND (NOT Q)) = False\n",
      "The expression is false when P = False and Q = True\n",
      "P = False, Q = False, (P AND Q) OR (P AND (NOT Q)) = False\n",
      "The expression is false when P = False and Q = False\n"
     ]
    }
   ],
   "source": [
    "values = [True, False]\n",
    "for P in values:\n",
    "    for Q in values:\n",
    "        result = (P and Q) or (P and (not Q))\n",
    "        print(f\"P = {P}, Q = {Q}, (P AND Q) OR (P AND (NOT Q)) = {result}\")\n",
    "        if not result:\n",
    "            print(f\"The expression is false when P = {P} and Q = {Q}\")"
   ]
  },
  {
   "cell_type": "markdown",
   "metadata": {},
   "source": [
    "22."
   ]
  },
  {
   "cell_type": "code",
   "execution_count": null,
   "metadata": {},
   "outputs": [],
   "source": []
  },
  {
   "cell_type": "markdown",
   "metadata": {},
   "source": [
    "Chapter 2"
   ]
  },
  {
   "cell_type": "markdown",
   "metadata": {},
   "source": [
    "1."
   ]
  },
  {
   "cell_type": "code",
   "execution_count": 11,
   "metadata": {},
   "outputs": [
    {
     "data": {
      "text/plain": [
       "('HELLO', 'hello', False, True, True)"
      ]
     },
     "execution_count": 11,
     "metadata": {},
     "output_type": "execute_result"
    }
   ],
   "source": [
    "s1 = 'HELLO'\n",
    "s2 = 'hello'\n",
    "\n",
    "are_equal = s1 == s2\n",
    "are_equal_lowercase = s1.lower() == s2\n",
    "are_equal_uppercase = s1 == s2.upper()\n",
    "\n",
    "s1, s2, are_equal, are_equal_lowercase, are_equal_uppercase"
   ]
  },
  {
   "cell_type": "markdown",
   "metadata": {},
   "source": [
    "2."
   ]
  },
  {
   "cell_type": "code",
   "execution_count": 12,
   "metadata": {},
   "outputs": [
    {
     "data": {
      "text/plain": [
       "('123', 123.0, str, float)"
      ]
     },
     "execution_count": 12,
     "metadata": {},
     "output_type": "execute_result"
    }
   ],
   "source": [
    "S = '123'\n",
    "N = float(S)\n",
    "\n",
    "type_S = type(S)\n",
    "type_N = type(N)\n",
    "\n",
    "S, N, type_S, type_N"
   ]
  },
  {
   "cell_type": "markdown",
   "metadata": {},
   "source": [
    "3."
   ]
  },
  {
   "cell_type": "code",
   "execution_count": 13,
   "metadata": {},
   "outputs": [
    {
     "name": "stdout",
     "output_type": "stream",
     "text": [
      "False\n",
      "True\n",
      "True\n"
     ]
    }
   ],
   "source": [
    "s1 = 'HELLO'\n",
    "s2 = 'hello'\n",
    "print(s1 == s2)\n",
    "print(s1.lower() == s2)\n",
    "print(s1 == s2.upper())"
   ]
  },
  {
   "cell_type": "markdown",
   "metadata": {},
   "source": [
    "4."
   ]
  },
  {
   "cell_type": "code",
   "execution_count": 14,
   "metadata": {},
   "outputs": [
    {
     "name": "stdout",
     "output_type": "stream",
     "text": [
      "The word 'Engineering' has 11 letters.\n",
      "The word 'Book' has 4 letters.\n"
     ]
    }
   ],
   "source": [
    "word1 = 'Engineering'\n",
    "length1 = len(word1)\n",
    "\n",
    "word2 = 'Book'\n",
    "length2 = len(word2)\n",
    "print(f\"The word '{word1}' has {length1} letters.\")\n",
    "print(f\"The word '{word2}' has {length2} letters.\")\n"
   ]
  },
  {
   "cell_type": "markdown",
   "metadata": {},
   "source": [
    "5."
   ]
  },
  {
   "cell_type": "code",
   "execution_count": 15,
   "metadata": {},
   "outputs": [
    {
     "name": "stdout",
     "output_type": "stream",
     "text": [
      "True\n"
     ]
    }
   ],
   "source": [
    "substring = 'Python'\n",
    "full_string = 'Python is great!'\n",
    "\n",
    "is_in_string = substring in full_string\n",
    "print(is_in_string)"
   ]
  },
  {
   "cell_type": "markdown",
   "metadata": {},
   "source": [
    "6."
   ]
  },
  {
   "cell_type": "code",
   "execution_count": 16,
   "metadata": {},
   "outputs": [
    {
     "name": "stdout",
     "output_type": "stream",
     "text": [
      "great!\n"
     ]
    }
   ],
   "source": [
    "sentence = 'Python is great!'\n",
    "words = sentence.split()\n",
    "last_word = words[-1]\n",
    "print(last_word)"
   ]
  },
  {
   "cell_type": "markdown",
   "metadata": {},
   "source": [
    "7."
   ]
  },
  {
   "cell_type": "code",
   "execution_count": 17,
   "metadata": {},
   "outputs": [
    {
     "name": "stdout",
     "output_type": "stream",
     "text": [
      "[1, 2, 8, 9, 15, 4]\n"
     ]
    }
   ],
   "source": [
    "list_a = [1, 8, 9, 15]\n",
    "list_a.insert(1, 2)\n",
    "list_a.append(4)\n",
    "print(list_a)"
   ]
  },
  {
   "cell_type": "markdown",
   "metadata": {},
   "source": [
    "8."
   ]
  },
  {
   "cell_type": "code",
   "execution_count": 18,
   "metadata": {},
   "outputs": [
    {
     "name": "stdout",
     "output_type": "stream",
     "text": [
      "[1, 2, 4, 8, 9, 15]\n"
     ]
    }
   ],
   "source": [
    "list_a = [1, 2, 8, 9, 15, 4]\n",
    "list_a.sort()\n",
    "print(list_a)"
   ]
  },
  {
   "cell_type": "markdown",
   "metadata": {},
   "source": [
    "17."
   ]
  },
  {
   "cell_type": "code",
   "execution_count": 2,
   "metadata": {},
   "outputs": [],
   "source": [
    "import numpy"
   ]
  },
  {
   "cell_type": "code",
   "execution_count": 22,
   "metadata": {},
   "outputs": [
    {
     "name": "stdout",
     "output_type": "stream",
     "text": [
      "[-10.          -9.7979798   -9.5959596   -9.39393939  -9.19191919\n",
      "  -8.98989899  -8.78787879  -8.58585859  -8.38383838  -8.18181818\n",
      "  -7.97979798  -7.77777778  -7.57575758  -7.37373737  -7.17171717\n",
      "  -6.96969697  -6.76767677  -6.56565657  -6.36363636  -6.16161616\n",
      "  -5.95959596  -5.75757576  -5.55555556  -5.35353535  -5.15151515\n",
      "  -4.94949495  -4.74747475  -4.54545455  -4.34343434  -4.14141414\n",
      "  -3.93939394  -3.73737374  -3.53535354  -3.33333333  -3.13131313\n",
      "  -2.92929293  -2.72727273  -2.52525253  -2.32323232  -2.12121212\n",
      "  -1.91919192  -1.71717172  -1.51515152  -1.31313131  -1.11111111\n",
      "  -0.90909091  -0.70707071  -0.50505051  -0.3030303   -0.1010101\n",
      "   0.1010101    0.3030303    0.50505051   0.70707071   0.90909091\n",
      "   1.11111111   1.31313131   1.51515152   1.71717172   1.91919192\n",
      "   2.12121212   2.32323232   2.52525253   2.72727273   2.92929293\n",
      "   3.13131313   3.33333333   3.53535354   3.73737374   3.93939394\n",
      "   4.14141414   4.34343434   4.54545455   4.74747475   4.94949495\n",
      "   5.15151515   5.35353535   5.55555556   5.75757576   5.95959596\n",
      "   6.16161616   6.36363636   6.56565657   6.76767677   6.96969697\n",
      "   7.17171717   7.37373737   7.57575758   7.77777778   7.97979798\n",
      "   8.18181818   8.38383838   8.58585859   8.78787879   8.98989899\n",
      "   9.19191919   9.39393939   9.5959596    9.7979798   10.        ]\n"
     ]
    }
   ],
   "source": [
    "array = numpy.linspace(-10, 10, 100)\n",
    "print(array)"
   ]
  },
  {
   "cell_type": "markdown",
   "metadata": {},
   "source": [
    "18."
   ]
  },
  {
   "cell_type": "code",
   "execution_count": 3,
   "metadata": {},
   "outputs": [
    {
     "name": "stdout",
     "output_type": "stream",
     "text": [
      "[1 2 3]\n"
     ]
    }
   ],
   "source": [
    "array_a = numpy.array([-1, 0, 1, 2, 0, 3])\n",
    "filtered_array = array_a[array_a > 0]\n",
    "print(filtered_array)"
   ]
  },
  {
   "cell_type": "markdown",
   "metadata": {},
   "source": [
    "19."
   ]
  },
  {
   "cell_type": "code",
   "execution_count": 24,
   "metadata": {},
   "outputs": [
    {
     "name": "stdout",
     "output_type": "stream",
     "text": [
      "[[3 5 3]\n",
      " [2 2 5]\n",
      " [3 8 9]]\n"
     ]
    }
   ],
   "source": [
    "y = numpy.array([[3, 2, 3], [5, 2, 8], [3, 5, 9]])\n",
    "y_transpose = y.T\n",
    "print(y_transpose)"
   ]
  },
  {
   "cell_type": "markdown",
   "metadata": {},
   "source": [
    "20."
   ]
  },
  {
   "cell_type": "code",
   "execution_count": 25,
   "metadata": {},
   "outputs": [
    {
     "name": "stdout",
     "output_type": "stream",
     "text": [
      "[[0. 0. 0. 0.]\n",
      " [0. 0. 0. 0.]]\n"
     ]
    }
   ],
   "source": [
    "zero_array = numpy.zeros((2, 4))\n",
    "print(zero_array)"
   ]
  },
  {
   "cell_type": "markdown",
   "metadata": {},
   "source": [
    "21."
   ]
  },
  {
   "cell_type": "code",
   "execution_count": 26,
   "metadata": {},
   "outputs": [
    {
     "name": "stdout",
     "output_type": "stream",
     "text": [
      "[[0. 1. 0. 0.]\n",
      " [0. 1. 0. 0.]]\n"
     ]
    }
   ],
   "source": [
    "zero_array = numpy.zeros((2, 4))\n",
    "zero_array[:, 1] = 1\n",
    "print(zero_array)"
   ]
  },
  {
   "cell_type": "markdown",
   "metadata": {},
   "source": [
    "22."
   ]
  },
  {
   "cell_type": "code",
   "execution_count": 28,
   "metadata": {},
   "outputs": [],
   "source": [
    "%reset -f"
   ]
  },
  {
   "cell_type": "markdown",
   "metadata": {},
   "source": [
    "# Exrecise 2"
   ]
  },
  {
   "cell_type": "markdown",
   "metadata": {},
   "source": [
    "### Chapter 3"
   ]
  },
  {
   "cell_type": "markdown",
   "metadata": {},
   "source": [
    "1."
   ]
  },
  {
   "cell_type": "code",
   "execution_count": 7,
   "metadata": {},
   "outputs": [
    {
     "name": "stdout",
     "output_type": "stream",
     "text": [
      "sinh(0) = 0.0\n",
      "sinh(1) = 1.1752011936438014\n",
      "sinh(2) = 3.626860407847019\n"
     ]
    }
   ],
   "source": [
    "def my_sinh(x):\n",
    "    y = (math.exp(x) - math.exp(-x)) / 2\n",
    "    return y\n",
    "\n",
    "x = 0\n",
    "result = my_sinh(x)\n",
    "print(f\"sinh({x}) = {result}\")\n",
    "x = 1\n",
    "result = my_sinh(x)\n",
    "print(f\"sinh({x}) = {result}\")\n",
    "x = 2\n",
    "result = my_sinh(x)\n",
    "print(f\"sinh({x}) = {result}\")\n"
   ]
  },
  {
   "cell_type": "markdown",
   "metadata": {},
   "source": [
    "2."
   ]
  },
  {
   "cell_type": "code",
   "execution_count": 16,
   "metadata": {},
   "outputs": [
    {
     "name": "stdout",
     "output_type": "stream",
     "text": [
      "[[1 0 1 0 1]\n",
      " [0 1 0 1 0]\n",
      " [1 0 1 0 1]\n",
      " [0 1 0 1 0]\n",
      " [1 0 1 0 1]]\n"
     ]
    }
   ],
   "source": [
    "\n",
    "def my_checker_board(n):\n",
    "    m = numpy.ones((n, n), dtype=int) \n",
    "    m[1::2, ::2] = 0  \n",
    "    m[::2, 1::2] = 0  \n",
    "    return m\n",
    "n = 5\n",
    "checkerboard = my_checker_board(n)\n",
    "print(checkerboard)"
   ]
  },
  {
   "cell_type": "markdown",
   "metadata": {},
   "source": [
    "3."
   ]
  },
  {
   "cell_type": "code",
   "execution_count": 23,
   "metadata": {},
   "outputs": [
    {
     "name": "stdout",
     "output_type": "stream",
     "text": [
      "0.5\n",
      "1.0\n",
      "30.0\n"
     ]
    }
   ],
   "source": [
    "def my_triangle(b, h):\n",
    "    area = 0.5 * b * h\n",
    "    return area\n",
    "print(my_triangle(1, 1))\n",
    "print(my_triangle(2, 1))\n",
    "print(my_triangle(12, 5))\n"
   ]
  },
  {
   "cell_type": "markdown",
   "metadata": {},
   "source": [
    "4."
   ]
  },
  {
   "cell_type": "code",
   "execution_count": null,
   "metadata": {},
   "outputs": [],
   "source": []
  },
  {
   "cell_type": "markdown",
   "metadata": {},
   "source": [
    "5."
   ]
  },
  {
   "cell_type": "code",
   "execution_count": 36,
   "metadata": {},
   "outputs": [
    {
     "name": "stdout",
     "output_type": "stream",
     "text": [
      "Surface area: 37.69911184307752\n",
      "Volume: 15.707963267948966\n"
     ]
    }
   ],
   "source": [
    "def my_cylinder(r, h):\n",
    "    surface_area = 2 * math.pi * r**2 + 2 * math.pi * r * h\n",
    "    volume = math.pi * r**2 * h \n",
    "    return [surface_area, volume]\n",
    "\n",
    "result = my_cylinder(1, 5)\n",
    "print(f\"Surface area: {result[0]}\")\n",
    "print(f\"Volume: {result[1]}\")"
   ]
  },
  {
   "cell_type": "markdown",
   "metadata": {},
   "source": [
    "6."
   ]
  },
  {
   "cell_type": "code",
   "execution_count": 55,
   "metadata": {},
   "outputs": [
    {
     "name": "stdout",
     "output_type": "stream",
     "text": [
      "Number of odd integers: 0\n"
     ]
    }
   ],
   "source": [
    "def my_n_odds(a):\n",
    "    numArray = numpy.array(a)\n",
    "    odd_count = numpy.sum(numArray % 2 != 0)\n",
    "    return odd_count\n",
    "count = my_n_odds(numpy.arange(2, 100, 2))\n",
    "print(f\"Number of odd integers: {count}\")"
   ]
  },
  {
   "cell_type": "markdown",
   "metadata": {},
   "source": [
    "7."
   ]
  },
  {
   "cell_type": "code",
   "execution_count": 58,
   "metadata": {},
   "outputs": [
    {
     "name": "stdout",
     "output_type": "stream",
     "text": [
      "Programming is fun!\n"
     ]
    }
   ],
   "source": [
    "def add_string(s1, s2):\n",
    "    result = s1 + s2\n",
    "    return result\n",
    "s1 = add_string('Programming', ' ')\n",
    "s2 = add_string('is ', 'fun!')\n",
    "print(add_string(s1, s2))"
   ]
  },
  {
   "cell_type": "markdown",
   "metadata": {},
   "source": [
    "8."
   ]
  },
  {
   "cell_type": "code",
   "execution_count": 61,
   "metadata": {},
   "outputs": [
    {
     "name": "stdout",
     "output_type": "stream",
     "text": [
      "Hi, my name is John and I am 26 years old.\n"
     ]
    }
   ],
   "source": [
    "def greeting(name, age):\n",
    "    result = f\"Hi, my name is {name} and I am {int(age)} years old.\"\n",
    "    return result\n",
    "name = \"John\"\n",
    "age = 26\n",
    "greet_message = greeting(name, age)\n",
    "print(greet_message)"
   ]
  },
  {
   "cell_type": "markdown",
   "metadata": {},
   "source": [
    "9."
   ]
  },
  {
   "cell_type": "code",
   "execution_count": 68,
   "metadata": {},
   "outputs": [
    {
     "name": "stdout",
     "output_type": "stream",
     "text": [
      "Values within tolerance:\n",
      "1\n",
      "2\n",
      "Values within tolerance:\n",
      "0.47000000000000003\n",
      "0.48\n",
      "0.49\n",
      "0.5\n",
      "0.51\n",
      "0.52\n"
     ]
    }
   ],
   "source": [
    "def my_within_tolerance(A, a, tol):\n",
    "    A = numpy.array(A)\n",
    "    within_tolerance = numpy.abs(A - a) < tol\n",
    "    print(\"Values within tolerance:\")\n",
    "    for value in A[within_tolerance]:\n",
    "        print(value)\n",
    "\n",
    "my_within_tolerance([0, 1, 2, 3], 1.5, 0.75)\n",
    "my_within_tolerance(numpy.arange(0, 1.01, 0.01), 0.5, 0.03)"
   ]
  },
  {
   "cell_type": "markdown",
   "metadata": {},
   "source": [
    "10."
   ]
  },
  {
   "cell_type": "code",
   "execution_count": null,
   "metadata": {},
   "outputs": [],
   "source": []
  },
  {
   "cell_type": "markdown",
   "metadata": {},
   "source": [
    "### Chapter 9"
   ]
  },
  {
   "cell_type": "markdown",
   "metadata": {},
   "source": [
    "1."
   ]
  },
  {
   "cell_type": "code",
   "execution_count": 3,
   "metadata": {},
   "outputs": [
    {
     "name": "stdout",
     "output_type": "stream",
     "text": [
      "7\n",
      "11\n",
      "8\n",
      "1\n",
      "0\n"
     ]
    }
   ],
   "source": [
    "def my_bin_2_dec(b):\n",
    "    d = 0\n",
    "    for i in range(len(b)):\n",
    "        d += b[i] * (2 ** i)\n",
    "    return d\n",
    "print(my_bin_2_dec([1, 1, 1])) \n"
   ]
  },
  {
   "cell_type": "markdown",
   "metadata": {},
   "source": [
    "2."
   ]
  },
  {
   "cell_type": "code",
   "execution_count": 4,
   "metadata": {},
   "outputs": [
    {
     "name": "stdout",
     "output_type": "stream",
     "text": [
      "[0]\n",
      "[1, 0, 1, 1, 1]\n",
      "[1, 0, 0, 0, 0, 0, 1, 1, 0, 0, 0, 1]\n"
     ]
    }
   ],
   "source": [
    "def my_dec_2_bin(d):\n",
    "    if d == 0:\n",
    "        return [0]\n",
    "    \n",
    "    b = []\n",
    "    while d > 0:\n",
    "        b.append(d % 2)\n",
    "        d = d // 2\n",
    "    b.reverse()\n",
    "    return b\n",
    "\n",
    "print(my_dec_2_bin(0))\n",
    "print(my_dec_2_bin(23))\n",
    "print(my_dec_2_bin(2097)) "
   ]
  },
  {
   "cell_type": "markdown",
   "metadata": {},
   "source": [
    "3."
   ]
  },
  {
   "cell_type": "code",
   "execution_count": 22,
   "metadata": {},
   "outputs": [],
   "source": [
    "def my_bin_2_dec(b):\n",
    "    d = 0\n",
    "    for i in range(len(b)):\n",
    "        d += b[i] * (2 ** i)\n",
    "    return d\n",
    "\n",
    "def my_dec_2_bin(d):\n",
    "    if d == 0:\n",
    "        return [0]\n",
    "    \n",
    "    b = []\n",
    "    while d > 0:\n",
    "        b.append(d % 2)\n",
    "        d = d // 2\n",
    "    b.reverse()\n",
    "    return b\n"
   ]
  },
  {
   "cell_type": "markdown",
   "metadata": {},
   "source": [
    "4."
   ]
  },
  {
   "cell_type": "code",
   "execution_count": 25,
   "metadata": {},
   "outputs": [
    {
     "name": "stdout",
     "output_type": "stream",
     "text": [
      "[1, 0, 0, 0, 0, 0]\n"
     ]
    }
   ],
   "source": [
    "def my_bin_adder(b1, b2):\n",
    "    max_len = max(len(b1), len(b2))\n",
    "    b1 = [0] * (max_len - len(b1)) + b1\n",
    "    b2 = [0] * (max_len - len(b2)) + b2\n",
    "    \n",
    "    carry = 0\n",
    "    result = []\n",
    "    for bit1, bit2 in zip(reversed(b1), reversed(b2)):\n",
    "        total = bit1 + bit2 + carry\n",
    "        result_bit = total % 2\n",
    "        carry = total // 2\n",
    "        result.append(result_bit)\n",
    "    \n",
    "    if carry:\n",
    "        result.append(carry)\n",
    "    \n",
    "    result.reverse()\n",
    "    \n",
    "    return result\n",
    "\n",
    "print(my_bin_adder([1, 1, 1, 1,1] , [1])) "
   ]
  },
  {
   "cell_type": "markdown",
   "metadata": {},
   "source": [
    "5."
   ]
  },
  {
   "cell_type": "markdown",
   "metadata": {},
   "source": [
    "In floating-point representation, bits are allocated across three components: the sign, the exponent (or characteristic), and the fraction (or mantissa). The distribution of bits among these components affects the precision and range of the floating-point numbers that can be represented."
   ]
  },
  {
   "cell_type": "markdown",
   "metadata": {},
   "source": [
    "6."
   ]
  },
  {
   "cell_type": "code",
   "execution_count": 30,
   "metadata": {},
   "outputs": [
    {
     "name": "stdout",
     "output_type": "stream",
     "text": [
      "-48.0\n"
     ]
    }
   ],
   "source": [
    "def my_ieee_2_dec(ieee):\n",
    "    \n",
    "    sign_bit = int(ieee[0])\n",
    "    exponent_bits = ieee[1:12]\n",
    "    fraction_bits = ieee[12:]\n",
    "    \n",
    "    exponent = int(exponent_bits, 2)\n",
    "    fraction = int(fraction_bits, 2)\n",
    "    \n",
    "    bias = 1023\n",
    "    \n",
    "    if exponent == 0:\n",
    "        if fraction == 0:\n",
    "            return 0.0  \n",
    "        exponent_actual = 1 - bias  \n",
    "    elif exponent == 0x7FF:\n",
    "        if fraction == 0:\n",
    "            return (-1) ** sign_bit * float('inf')\n",
    "        else:\n",
    "            return float('nan') \n",
    "    else:\n",
    "        exponent_actual = exponent - bias\n",
    "    \n",
    "    fraction_value = 0.0\n",
    "    for i in range(52):\n",
    "        if fraction & (1 << (51 - i)):\n",
    "            fraction_value += 2 ** (-1 * (i + 1))\n",
    "    \n",
    "    decimal_value = (-1) ** sign_bit * 2 ** exponent_actual * (1 + fraction_value)\n",
    "    \n",
    "    return decimal_value\n",
    "\n",
    "ieee = '1100000001001000000000000000000000000000000000000000000000000000' \n",
    "print(my_ieee_2_dec(ieee)) \n"
   ]
  },
  {
   "cell_type": "markdown",
   "metadata": {},
   "source": [
    "7."
   ]
  },
  {
   "cell_type": "code",
   "execution_count": 35,
   "metadata": {},
   "outputs": [],
   "source": [
    "def my_dec_2_ieee(d):\n",
    "    import struct\n",
    "    \n",
    "    if d == 0:\n",
    "        return '0' * 64\n",
    "    packed = struct.pack('>d', d)\n",
    "    ieee_binary = ''.join(f'{byte:08b}' for byte in packed)\n",
    "    \n",
    "    return ieee_binary"
   ]
  },
  {
   "cell_type": "markdown",
   "metadata": {},
   "source": [
    "8."
   ]
  },
  {
   "cell_type": "code",
   "execution_count": null,
   "metadata": {},
   "outputs": [],
   "source": []
  },
  {
   "cell_type": "markdown",
   "metadata": {},
   "source": [
    "# Exrecise 3"
   ]
  },
  {
   "cell_type": "markdown",
   "metadata": {},
   "source": [
    "### Chapter 16"
   ]
  },
  {
   "cell_type": "markdown",
   "metadata": {},
   "source": [
    "2."
   ]
  },
  {
   "cell_type": "code",
   "execution_count": null,
   "metadata": {},
   "outputs": [],
   "source": []
  },
  {
   "cell_type": "markdown",
   "metadata": {},
   "source": [
    "3."
   ]
  },
  {
   "cell_type": "code",
   "execution_count": 39,
   "metadata": {},
   "outputs": [],
   "source": [
    "import numpy as np\n",
    "\n",
    "def my_func_fit(x, y):\n",
    "    x = np.ravel(x)\n",
    "    y = np.ravel(y)\n",
    "    \n",
    "    if np.any(x <= 0) or np.any(y <= 0):\n",
    "        raise ValueError(\"x and y must be positive for log transformation.\")\n",
    "\n",
    "    X = np.log(x)\n",
    "    Y = np.log(y)\n",
    "\n",
    "    A = np.vstack([X, np.ones(len(X))]).T\n",
    "    beta, log_alpha = np.linalg.lstsq(A, Y, rcond=None)[0]\n",
    "\n",
    "    alpha = np.exp(log_alpha)\n",
    "    \n",
    "    return alpha, beta\n",
    "x = np.array([1, 2, 3, 4, 5])\n",
    "y = np.array([2, 8, 18, 32, 50])"
   ]
  },
  {
   "cell_type": "markdown",
   "metadata": {},
   "source": [
    "4."
   ]
  },
  {
   "cell_type": "markdown",
   "metadata": {},
   "source": [
    "Total Error: Compute using SSE for the given data points and fitted polynomial.\n",
    "Placing a New Point: Ensure it lies on the fitted polynomial to avoid adding error."
   ]
  },
  {
   "cell_type": "markdown",
   "metadata": {},
   "source": [
    "5."
   ]
  },
  {
   "cell_type": "code",
   "execution_count": null,
   "metadata": {},
   "outputs": [],
   "source": []
  },
  {
   "cell_type": "markdown",
   "metadata": {},
   "source": [
    "### Chapter 17"
   ]
  },
  {
   "cell_type": "markdown",
   "metadata": {},
   "source": [
    "1."
   ]
  },
  {
   "cell_type": "code",
   "execution_count": 10,
   "metadata": {},
   "outputs": [],
   "source": [
    "def my_lin_interp(x, y, X):\n",
    "    Y = []\n",
    "\n",
    "    for xi in X:\n",
    "        for j in range(len(x) - 1):\n",
    "            if x[j] <= xi <= x[j + 1]:\n",
    "                y_interp = y[j] + (xi - x[j]) * (y[j + 1] - y[j]) / (x[j + 1] - x[j])\n",
    "                Y.append(y_interp)\n",
    "                break\n",
    "        else:\n",
    "            raise ValueError(\"X[i] is out of the bounds of x\")\n",
    "        \n",
    "    return Y"
   ]
  },
  {
   "cell_type": "markdown",
   "metadata": {},
   "source": [
    "2."
   ]
  },
  {
   "cell_type": "code",
   "execution_count": 40,
   "metadata": {},
   "outputs": [],
   "source": [
    "import numpy as np\n",
    "\n",
    "def my_cubic_spline(x, y, X):\n",
    "    n = len(x)\n",
    "    h = np.diff(x)\n",
    "    alpha = np.zeros(n-1)\n",
    "    l = np.zeros(n)\n",
    "    mu = np.zeros(n-1)\n",
    "    z = np.zeros(n)\n",
    "    \n",
    "    for i in range(1, n-1):\n",
    "        alpha[i] = (3/(h[i])) * (y[i+1] - y[i]) - (3/(h[i-1])) * (y[i] - y[i-1])\n",
    "    \n",
    "    l[0] = 1\n",
    "    mu[0] = 0\n",
    "    z[0] = 0\n",
    "    \n",
    "    for i in range(1, n-1):\n",
    "        l[i] = 2 * (x[i+1] - x[i-1]) - h[i-1] * mu[i-1]\n",
    "        mu[i] = h[i] / l[i]\n",
    "        z[i] = (alpha[i] - h[i-1] * z[i-1]) / l[i]\n",
    "    \n",
    "    l[-1] = 1\n",
    "    z[-1] = 0\n",
    "    c = np.zeros(n)\n",
    "    b = np.zeros(n-1)\n",
    "    d = np.zeros(n-1)\n",
    "    \n",
    "    c[-1] = 0\n",
    "    for j in range(n-2, -1, -1):\n",
    "        c[j] = z[j] - mu[j] * c[j+1]\n",
    "        b[j] = (y[j+1] - y[j]) / h[j] - h[j] * (c[j+1] + 2 * c[j]) / 3\n",
    "        d[j] = (c[j+1] - c[j]) / (3 * h[j])\n",
    "    \n",
    "    Y = np.zeros(len(X))\n",
    "    for k, xk in enumerate(X):\n",
    "        i = np.searchsorted(x, xk) - 1\n",
    "        if i < 0:\n",
    "            i = 0\n",
    "        elif i >= n-1:\n",
    "            i = n-2\n",
    "        \n",
    "        dx = xk - x[i]\n",
    "        Y[k] = y[i] + b[i] * dx + c[i] * dx**2 + d[i] * dx**3\n",
    "    \n",
    "    return Y"
   ]
  },
  {
   "cell_type": "markdown",
   "metadata": {},
   "source": [
    "5."
   ]
  },
  {
   "cell_type": "code",
   "execution_count": null,
   "metadata": {},
   "outputs": [],
   "source": []
  },
  {
   "cell_type": "markdown",
   "metadata": {},
   "source": [
    "6."
   ]
  },
  {
   "cell_type": "code",
   "execution_count": 42,
   "metadata": {},
   "outputs": [],
   "source": [
    "import numpy as np\n",
    "\n",
    "def my_quintic_spline(x, y, X):\n",
    "    n = len(x)\n",
    "    h = np.diff(x)\n",
    "    delta_y = np.diff(y)\n",
    "    \n",
    "    N = 6 * (n - 1)\n",
    "    A = np.zeros((N, N))\n",
    "    B = np.zeros(N)\n",
    "    \n",
    "    def index(i, j):\n",
    "        return 6 * i + j\n",
    "    \n",
    "    for i in range(n - 1):\n",
    "        A[index(i, 0), index(i, 0)] = 1\n",
    "        A[index(i, 1), index(i, 1)] = h[i]\n",
    "        A[index(i, 2), index(i, 2)] = h[i]**2\n",
    "        A[index(i, 3), index(i, 3)] = h[i]**3\n",
    "        A[index(i, 4), index(i, 4)] = h[i]**4\n",
    "        A[index(i, 5), index(i, 5)] = h[i]**5\n",
    "        \n",
    "        if i < n - 2:\n",
    "            A[index(i + 1, 0), index(i + 1, 0)] = 1\n",
    "            A[index(i + 1, 1), index(i + 1, 1)] = 0\n",
    "            A[index(i + 1, 2), index(i + 1, 2)] = 0\n",
    "            A[index(i + 1, 3), index(i + 1, 3)] = 0\n",
    "            A[index(i + 1, 4), index(i + 1, 4)] = 0\n",
    "            A[index(i + 1, 5), index(i + 1, 5)] = 0\n",
    "            \n",
    "        B[index(i)] = y[i + 1] - y[i]\n",
    "\n",
    "    A[0, 0] = 1\n",
    "    A[-6, -6] = 1\n",
    "    B[0] = 0\n",
    "    B[-6] = 0\n",
    "\n",
    "    coeffs = np.linalg.solve(A, B)\n",
    "    \n",
    "    a = coeffs[0::6]\n",
    "    b = coeffs[1::6]\n",
    "    c = coeffs[2::6]\n",
    "    d = coeffs[3::6]\n",
    "    e = coeffs[4::6]\n",
    "    f = coeffs[5::6]\n",
    "    \n",
    "    Y = np.zeros(len(X))\n",
    "    for k, xk in enumerate(X):\n",
    "        i = np.searchsorted(x, xk) - 1\n",
    "        if i < 0:\n",
    "            i = 0\n",
    "        elif i >= n-1:\n",
    "            i = n-2\n",
    "        \n",
    "        dx = xk - x[i]\n",
    "        Y[k] = (a[i] +\n",
    "                b[i] * dx +\n",
    "                c[i] * dx**2 +\n",
    "                d[i] * dx**3 +\n",
    "                e[i] * dx**4 +\n",
    "                f[i] * dx**5)\n",
    "    \n",
    "    return Y"
   ]
  },
  {
   "cell_type": "markdown",
   "metadata": {},
   "source": [
    "7."
   ]
  },
  {
   "cell_type": "code",
   "execution_count": null,
   "metadata": {},
   "outputs": [],
   "source": []
  },
  {
   "cell_type": "markdown",
   "metadata": {},
   "source": [
    "### Chapter 19"
   ]
  },
  {
   "cell_type": "markdown",
   "metadata": {},
   "source": [
    "1."
   ]
  },
  {
   "cell_type": "code",
   "execution_count": 43,
   "metadata": {},
   "outputs": [],
   "source": [
    "def my_nth_root(x, n, tol):\n",
    "    r = x if x > 1 else 1.0\n",
    "    \n",
    "    while True:\n",
    "        f_r = r**n - x\n",
    "        f_prime_r = n * r**(n - 1)\n",
    "\n",
    "        \n",
    "        r_next = r - f_r / f_prime_r\n",
    "        \n",
    "    \n",
    "        if abs(f_r) < tol:\n",
    "            return r\n",
    "        \n",
    "        r = r_next"
   ]
  },
  {
   "cell_type": "markdown",
   "metadata": {},
   "source": [
    "2."
   ]
  },
  {
   "cell_type": "code",
   "execution_count": null,
   "metadata": {},
   "outputs": [],
   "source": []
  },
  {
   "cell_type": "markdown",
   "metadata": {},
   "source": [
    "3."
   ]
  },
  {
   "cell_type": "markdown",
   "metadata": {},
   "source": [
    "The bisection method fails for f(x)=1/x because the function is not continuous across intervals that include x=0 The discontinuity violates the requirement for the function to be continuous and for the method to guarantee a root within the interval."
   ]
  },
  {
   "cell_type": "markdown",
   "metadata": {},
   "source": [
    "4."
   ]
  },
  {
   "cell_type": "code",
   "execution_count": null,
   "metadata": {},
   "outputs": [],
   "source": []
  },
  {
   "cell_type": "markdown",
   "metadata": {},
   "source": [
    "5."
   ]
  },
  {
   "cell_type": "code",
   "execution_count": 46,
   "metadata": {},
   "outputs": [
    {
     "name": "stdout",
     "output_type": "stream",
     "text": [
      "[1.         1.5        1.41666667 1.41421569] [1.00000000e+00 2.50000000e-01 6.94444444e-03 6.00730488e-06]\n"
     ]
    }
   ],
   "source": [
    "import numpy as np\n",
    "\n",
    "def my_newton(f, df, x0, tol):\n",
    "    R = [x0]\n",
    "    E = [abs(f(x0))]\n",
    "    \n",
    "    while E[-1] >= tol:\n",
    "        x_current = R[-1]\n",
    "\n",
    "        x_next = x_current - f(x_current) / df(x_current)\n",
    "        \n",
    "        error_next = abs(f(x_next))\n",
    "        \n",
    "        R.append(x_next)\n",
    "        E.append(error_next)\n",
    "\n",
    "    R = np.array(R)\n",
    "    E = np.array(E)\n",
    "    \n",
    "    return R, E\n",
    "\n",
    "f = lambda x: x**2 - 2\n",
    "df = lambda x: 2*x\n",
    "[R, E] = my_newton(f, df, 1, 1e-5)\n",
    "print(R,E)"
   ]
  },
  {
   "cell_type": "markdown",
   "metadata": {},
   "source": [
    "6."
   ]
  },
  {
   "cell_type": "code",
   "execution_count": null,
   "metadata": {},
   "outputs": [],
   "source": []
  }
 ],
 "metadata": {
  "kernelspec": {
   "display_name": "Python 3",
   "language": "python",
   "name": "python3"
  },
  "language_info": {
   "codemirror_mode": {
    "name": "ipython",
    "version": 3
   },
   "file_extension": ".py",
   "mimetype": "text/x-python",
   "name": "python",
   "nbconvert_exporter": "python",
   "pygments_lexer": "ipython3",
   "version": "3.9.6"
  }
 },
 "nbformat": 4,
 "nbformat_minor": 2
}
